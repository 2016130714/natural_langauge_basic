{
 "cells": [
  {
   "cell_type": "markdown",
   "id": "5c865f25",
   "metadata": {},
   "source": [
    "* 자연어: 우리가 일상 생활에서 사용하는 언어 -> 아나콘다/코랩: 자연어 처리 수단\n",
    "* 필요 프레임 워크 / 라이브러리: pip install tensor flow / pip install keras / pip install genism / pip install scikit-learn / jupyter notebook\n",
    "* jupyter notebook: 아나콘다에 jupyter notebook 입력. 혹은 웹에 localhost:8888\n",
    "* 자연어처리 패키지: NLTK / pip install konlpy\n",
    "* pandas: 데이터 처리를 위한 라이브러리. 데이터 분석에 필수. (import pandas as pd)\n"
   ]
  },
  {
   "cell_type": "code",
   "execution_count": null,
   "id": "64658633",
   "metadata": {},
   "outputs": [],
   "source": [
    "import pandas as pd"
   ]
  },
  {
   "cell_type": "markdown",
   "id": "7b15f390",
   "metadata": {},
   "source": [
    "## pandas의 데이터 구조: 1. Series     2. DataFrame    3. Panel"
   ]
  },
  {
   "cell_type": "code",
   "execution_count": 11,
   "id": "6dd73772",
   "metadata": {},
   "outputs": [],
   "source": [
    "#1. Series\n",
    "sr1 = pd.Series([17000, 18000], ['치킨', '피자'])\n",
    "sr2 = pd.Series([1000, 5000], index = ['콜라', '맥주'])"
   ]
  },
  {
   "cell_type": "markdown",
   "id": "73d6c266",
   "metadata": {},
   "source": [
    "* pd.Series([values], [index])의 구조. 1차원 배열의 value에 대응되는 index 부여 가능.\n",
    "* 주의할 점: pd.Series에서 Series의 첫 글자를 대문자로 해야 error가 나지 않는다. \n",
    "* index에 대해 그냥 [index]로 써도 되고, index = [index]로 써도 된다."
   ]
  },
  {
   "cell_type": "code",
   "execution_count": 10,
   "id": "e22cefcb",
   "metadata": {},
   "outputs": [
    {
     "name": "stdout",
     "output_type": "stream",
     "text": [
      "[17000 18000] Index(['콜라', '맥주'], dtype='object')\n"
     ]
    }
   ],
   "source": [
    "print(sr1.values, sr2.index)"
   ]
  },
  {
   "cell_type": "code",
   "execution_count": 12,
   "id": "f342191c",
   "metadata": {},
   "outputs": [
    {
     "name": "stdout",
     "output_type": "stream",
     "text": [
      "       a  b  c\n",
      "one    1  2  3\n",
      "two    4  5  6\n",
      "three  7  8  9\n"
     ]
    }
   ],
   "source": [
    "#2. Data Frame\n",
    "values = [[1, 2, 3], [4, 5, 6], [7, 8, 9]]\n",
    "index = ['one', 'two', 'three']\n",
    "columns = ['a', 'b', 'c']\n",
    "\n",
    "df = pd.DataFrame(values, index = index, columns = columns)\n",
    "print(df)"
   ]
  },
  {
   "cell_type": "code",
   "execution_count": 15,
   "id": "060490ba",
   "metadata": {},
   "outputs": [
    {
     "name": "stdout",
     "output_type": "stream",
     "text": [
      "Index(['one', 'two', 'three'], dtype='object')\n",
      "Index(['a', 'b', 'c'], dtype='object')\n",
      "[[1 2 3]\n",
      " [4 5 6]\n",
      " [7 8 9]]\n"
     ]
    }
   ],
   "source": [
    "print(df.index)\n",
    "print(df.columns)\n",
    "print(df.values)"
   ]
  },
  {
   "cell_type": "markdown",
   "id": "e1ccd934",
   "metadata": {},
   "source": [
    "* pd.DataFrame(values, index = index, columns = columns)의 2차원 구조. row의 index는 index / columns의 index는 columns\n",
    "* df.columns를 출력해보면 알 수 있듯, 방향만 다를 뿐 index, columns 둘 다 index다.\n",
    "* DataFrame이 가장 많이 사용되는 데이터 구조다."
   ]
  },
  {
   "cell_type": "markdown",
   "id": "a6dd8fd9",
   "metadata": {},
   "source": [
    "### 데이터 프레임은 list, series, dict, numpy의 ndarrays 등으로 생성 가능"
   ]
  },
  {
   "cell_type": "code",
   "execution_count": 20,
   "id": "dbeef363",
   "metadata": {},
   "outputs": [
    {
     "name": "stdout",
     "output_type": "stream",
     "text": [
      "      0       1   2\n",
      "0  1000   steve  90\n",
      "1  1001   James  78\n",
      "2  1002  Doyeon  98\n",
      "     학번      이름  점수\n",
      "1  1000   steve  90\n",
      "2  1001   James  78\n",
      "3  1002  Doyeon  98\n"
     ]
    }
   ],
   "source": [
    "#2차원 list를 DataFrame으로 만들 수 있다.\n",
    "data = [['1000', 'steve', 90], ['1001', 'James', 78], ['1002', 'Doyeon', 98]]\n",
    "df1 = pd.DataFrame(data)\n",
    "print(df1)\n",
    "df2 = pd.DataFrame(data, index = [1, 2, 3], columns = ['학번', '이름', '점수'])\n",
    "print(df2)"
   ]
  },
  {
   "cell_type": "markdown",
   "id": "51245423",
   "metadata": {},
   "source": [
    "*index를 따로 지정하지 않을 경우 default는 0, 1, 2, 3...이고, 따로 지정할 수도 있다."
   ]
  },
  {
   "cell_type": "code",
   "execution_count": 22,
   "id": "3f51d595",
   "metadata": {},
   "outputs": [
    {
     "name": "stdout",
     "output_type": "stream",
     "text": [
      "     학번  이름   점수\n",
      "0  1000  상준  100\n",
      "1  1001  준용   78\n",
      "2  1002  현수   96\n"
     ]
    }
   ],
   "source": [
    "#dict로 DataFrame 만들기. \n",
    "data = {'학번' : ['1000', '1001', '1002'], '이름' : ['상준', '준용', '현수'],\n",
    "        '점수' : [100, 78, 96]}\n",
    "df3 = pd.DataFrame(data)\n",
    "print(df3)"
   ]
  },
  {
   "cell_type": "markdown",
   "id": "fe75b6f1",
   "metadata": {},
   "source": [
    "* dict로 만들면 열 방향으로 데이터가 정렬됨에 유의하자. 또한 columns 값은 자동으로 배정된다."
   ]
  },
  {
   "cell_type": "markdown",
   "id": "e238e10e",
   "metadata": {},
   "source": [
    "### DataFrame 조회 명령어들"
   ]
  },
  {
   "cell_type": "code",
   "execution_count": 28,
   "id": "4a086f02",
   "metadata": {},
   "outputs": [
    {
     "name": "stdout",
     "output_type": "stream",
     "text": [
      "     학번  이름   점수\n",
      "0  1000  상준  100\n",
      "1  1001  준용   78\n",
      "     학번  이름  점수\n",
      "1  1001  준용  78\n",
      "2  1002  현수  96\n",
      "\n",
      "\n",
      "0    100\n",
      "1     78\n",
      "2     96\n",
      "Name: 점수, dtype: int64\n"
     ]
    }
   ],
   "source": [
    "print(df3.head(2))\n",
    "print(df3.tail(2))\n",
    "print('\\n')\n",
    "print(df3['점수'])"
   ]
  },
  {
   "cell_type": "markdown",
   "id": "f62a2175",
   "metadata": {},
   "source": [
    "* df.head(n): 위부터 n행의 데이터 조회. df.tail(n): 아래부터 n행\n",
    "* df['columns의 이름']: 해당되는 열을 확인"
   ]
  },
  {
   "cell_type": "markdown",
   "id": "c01353fd",
   "metadata": {},
   "source": [
    "### pandas로 외부 데이터 읽기\n",
    "* pandas는 csv, txt, excel, SQL, HTML, JSON 등 다양한 데이터 파일을 읽어, 데이터 프레임을 생성할 수 있다.\n",
    "* 예를 들어 csv를 읽을 땐, pandas.read_csv('읽으려는 파일의 경로')를 통해 읽을 수 있다.\n",
    "* ex) df=pd.read_csv(r'C:\\Users\\USER\\Desktop\\example.csv')"
   ]
  },
  {
   "cell_type": "markdown",
   "id": "ac01ffde",
   "metadata": {},
   "source": [
    "## Numpy\n",
    "* 수치 데이터를 다루는 패키지. ndarray라는 다차원 행렬 구조를 자주 사용하여 선형 대수 계산.\n",
    "* 속도 면에서 순수 파이썬에 비해 압도적으로 빠르다.\n",
    "### np.array"
   ]
  },
  {
   "cell_type": "code",
   "execution_count": 30,
   "id": "db03e1e0",
   "metadata": {},
   "outputs": [],
   "source": [
    "import numpy as np"
   ]
  },
  {
   "cell_type": "code",
   "execution_count": 31,
   "id": "64b09f05",
   "metadata": {},
   "outputs": [
    {
     "name": "stdout",
     "output_type": "stream",
     "text": [
      "<class 'numpy.ndarray'>\n",
      "[1 2 3 4 5]\n"
     ]
    }
   ],
   "source": [
    "#1차원 list\n",
    "a = np.array([1, 2, 3, 4, 5])\n",
    "print(type(a))\n",
    "print(a)"
   ]
  },
  {
   "cell_type": "code",
   "execution_count": 34,
   "id": "6ec7f767",
   "metadata": {},
   "outputs": [
    {
     "name": "stdout",
     "output_type": "stream",
     "text": [
      "[[10 20 30]\n",
      " [60 70 80]]\n",
      "2\n",
      "(2, 3)\n"
     ]
    }
   ],
   "source": [
    "#2차원 list\n",
    "b = np.array([[10,20,30], [60,70,80]])\n",
    "print(b)\n",
    "print(b.ndim)     #몇차원인지?\n",
    "print(b.shape)    #모양, 크기"
   ]
  },
  {
   "cell_type": "markdown",
   "id": "6d9a3429",
   "metadata": {},
   "source": [
    "* np.array()는 list, tuple, 배열(array)로부터 ndarray를 생성 가능"
   ]
  },
  {
   "cell_type": "code",
   "execution_count": 38,
   "id": "703aa6e5",
   "metadata": {},
   "outputs": [
    {
     "name": "stdout",
     "output_type": "stream",
     "text": [
      "[[0. 0. 0.]\n",
      " [0. 0. 0.]]\n",
      "[[1. 1. 1.]\n",
      " [1. 1. 1.]]\n",
      "[[7 7]\n",
      " [7 7]]\n"
     ]
    }
   ],
   "source": [
    "a = np.zeros((2, 3))\n",
    "b = np.ones((2, 3))\n",
    "c = np.full((2, 2), 7)     #특정 값으로 ndarray를 가득 채움.\n",
    "print(a)\n",
    "print(b)\n",
    "print(c)"
   ]
  },
  {
   "cell_type": "code",
   "execution_count": 42,
   "id": "d368a7ed",
   "metadata": {},
   "outputs": [
    {
     "name": "stdout",
     "output_type": "stream",
     "text": [
      "[[1. 0. 0.]\n",
      " [0. 1. 0.]\n",
      " [0. 0. 1.]]\n"
     ]
    }
   ],
   "source": [
    "a = np.eye(3)      #대각선으로 1, 나머지는 0인 2차원 배열 생성. n행. 이 경우 3행\n",
    "print(a)"
   ]
  },
  {
   "cell_type": "code",
   "execution_count": 43,
   "id": "1292e103",
   "metadata": {},
   "outputs": [
    {
     "name": "stdout",
     "output_type": "stream",
     "text": [
      "[[0.98590721 0.49167378]\n",
      " [0.72028133 0.9302553 ]]\n"
     ]
    }
   ],
   "source": [
    "a = np.random.random((2, 2))         #0과 1 사이 랜덤 값으로 채워진 배열 생성.\n",
    "print(a)"
   ]
  },
  {
   "cell_type": "markdown",
   "id": "57769230",
   "metadata": {},
   "source": [
    "### np.arange\n",
    "* range를 바탕으로 배열 생성"
   ]
  },
  {
   "cell_type": "code",
   "execution_count": 44,
   "id": "3b89f632",
   "metadata": {},
   "outputs": [
    {
     "name": "stdout",
     "output_type": "stream",
     "text": [
      "[0 1 2 3 4]\n"
     ]
    }
   ],
   "source": [
    "a = np.arange(5)\n",
    "print(a)"
   ]
  },
  {
   "cell_type": "code",
   "execution_count": 47,
   "id": "b55005ca",
   "metadata": {},
   "outputs": [
    {
     "name": "stdout",
     "output_type": "stream",
     "text": [
      "[ 1.   4.5  8.  11.5 15.  18.5]\n"
     ]
    }
   ],
   "source": [
    "a = np.arange(1, 20, 3.5)\n",
    "print(a)"
   ]
  },
  {
   "cell_type": "code",
   "execution_count": 51,
   "id": "3a2b1a85",
   "metadata": {},
   "outputs": [
    {
     "name": "stdout",
     "output_type": "stream",
     "text": [
      "[[ 0  1  2  3  4  5]\n",
      " [ 6  7  8  9 10 11]\n",
      " [12 13 14 15 16 17]\n",
      " [18 19 20 21 22 23]\n",
      " [24 25 26 27 28 29]]\n",
      "[[[ 0  1  2  3  4]\n",
      "  [ 5  6  7  8  9]\n",
      "  [10 11 12 13 14]]\n",
      "\n",
      " [[15 16 17 18 19]\n",
      "  [20 21 22 23 24]\n",
      "  [25 26 27 28 29]]]\n"
     ]
    }
   ],
   "source": [
    "a = np.arange(30).reshape(5, 6)\n",
    "print(a)              \n",
    "#arange를 통해 만든 range에 reshpae method를 써 다차원으로 변형 가능.\n",
    "b = np.arange(30).reshape(2, 3, 5)\n",
    "print(b)"
   ]
  },
  {
   "cell_type": "markdown",
   "id": "42a9945d",
   "metadata": {},
   "source": [
    "### numpy 슬라이싱 / 인덱싱\n",
    "* numpy의 ndarray에서도 파이썬 기본 리스트의 슬라이싱 기능을 지원한다. 다만 문법 차이에 유의."
   ]
  },
  {
   "cell_type": "code",
   "execution_count": 2,
   "id": "cdb8d622",
   "metadata": {},
   "outputs": [
    {
     "name": "stdout",
     "output_type": "stream",
     "text": [
      "[[1 2]\n",
      " [4 5]]\n"
     ]
    }
   ],
   "source": [
    "import numpy as np\n",
    "a = np.array([[1, 2, 3], [4, 5, 6]])\n",
    "b = a[0:2, 0:2]         #0:2이므로, index 0과 1(2를 제외한)를 슬라이싱.\n",
    "print(b)"
   ]
  },
  {
   "cell_type": "code",
   "execution_count": 6,
   "id": "3caac77a",
   "metadata": {},
   "outputs": [
    {
     "name": "stdout",
     "output_type": "stream",
     "text": [
      "[[1 2 3]\n",
      " [4 5 6]] [1 2 3] [2 5]\n"
     ]
    }
   ],
   "source": [
    "b = a[:, :]     #전체 다 출력\n",
    "c = a[0, :]     #row 기준 index o의 row 출력. 여기선 :를 출력하지 않는다!\n",
    "d = a[:, 1]     #columns 기준 index 1의 column 출력\n",
    "print(b, c, d)"
   ]
  },
  {
   "cell_type": "code",
   "execution_count": 17,
   "id": "a17a9ead",
   "metadata": {},
   "outputs": [
    {
     "name": "stdout",
     "output_type": "stream",
     "text": [
      "[8, 4]\n",
      "[8 4]\n"
     ]
    }
   ],
   "source": [
    "x = [[1, 2, 3], [4, 5, 6], [7, 8, 9]]\n",
    "print([x[2][1], x[1][0]])        #파이썬의 기본 리스트는 이런 방법으로 indexing.\n",
    "a = np.array([[1, 2, 3], [4, 5, 6], [7, 8, 9]])\n",
    "b = a[[2, 1], [1, 0]]           #ndarray의 indexing. 순서 차이에 유의\n",
    "print(b)"
   ]
  },
  {
   "cell_type": "markdown",
   "id": "24d9bff1",
   "metadata": {},
   "source": [
    "### numpy 계산\n",
    "* 사칙연산 전부 가능. 다만 기본적으론, 직관적으로 같은 자리끼리 연산한다.\n",
    "* 행렬의 연산을 하고 싶으면 np.dot() 등을 써야 한다."
   ]
  },
  {
   "cell_type": "code",
   "execution_count": 20,
   "id": "471e3f43",
   "metadata": {},
   "outputs": [
    {
     "name": "stdout",
     "output_type": "stream",
     "text": [
      "[[ 6  8]\n",
      " [10 12]]\n",
      "[[-4 -4]\n",
      " [-4 -4]]\n",
      "[[ 5 12]\n",
      " [21 32]]\n",
      "[[0.2        0.33333333]\n",
      " [0.42857143 0.5       ]]\n"
     ]
    }
   ],
   "source": [
    "a = np.array([[1, 2], [3, 4]])\n",
    "b = np.array([[5, 6], [7, 8]])\n",
    "print(a+b)\n",
    "print(a-b)\n",
    "print(a*b)\n",
    "print(a/b)"
   ]
  },
  {
   "cell_type": "code",
   "execution_count": 21,
   "id": "f54eb084",
   "metadata": {},
   "outputs": [
    {
     "data": {
      "text/plain": [
       "array([[19, 22],\n",
       "       [43, 50]])"
      ]
     },
     "execution_count": 21,
     "metadata": {},
     "output_type": "execute_result"
    }
   ],
   "source": [
    "np.dot(a,b)           #dot product. 행렬의 곱셈."
   ]
  },
  {
   "cell_type": "markdown",
   "id": "869d467e",
   "metadata": {},
   "source": [
    "## MatPlotLib\n",
    "* 데이터를 chart나 plot으로 시각화하는 패키지. 주요 모듈으론 pyplot이 있다."
   ]
  },
  {
   "cell_type": "code",
   "execution_count": 22,
   "id": "b4eb76e0",
   "metadata": {},
   "outputs": [],
   "source": [
    "import matplotlib.pyplot as plt"
   ]
  },
  {
   "cell_type": "code",
   "execution_count": 27,
   "id": "97c30521",
   "metadata": {},
   "outputs": [
    {
     "data": {
      "image/png": "[encoded data removed]",
      "text/plain": [
       "<Figure size 432x288 with 1 Axes>"
      ]
     },
     "metadata": {
      "needs_background": "light"
     },
     "output_type": "display_data"
    }
   ],
   "source": [
    "plt.title('test')                  #상단 제목 입력\n",
    "plt.plot([1,2,3,4],[2,4,8,6])      #x축: [1, 2, 3 ,4]  y축: [2, 4, 8, 6] -> (1,2), (2, 4), (3, 8), (4, 6)\n",
    "plt.xlabel('hours')                #x축의 label\n",
    "plt.ylabel('score')                #y축의 label\n",
    "plt.plot([2.6, 3, 7, 8], [10, 3, 6, 6])     #그냥 다른 데이터를 plot하면 또다른 라인을 추가 가능\n",
    "plt.legend(['A student', 'B student'])      #범례 추가\n",
    "plt.show()"
   ]
  },
  {
   "cell_type": "code",
   "execution_count": null,
   "id": "717c640a",
   "metadata": {},
   "outputs": [],
   "source": []
  }
 ],
 "metadata": {
  "kernelspec": {
   "display_name": "Python 3",
   "language": "python",
   "name": "python3"
  },
  "language_info": {
   "codemirror_mode": {
    "name": "ipython",
    "version": 3
   },
   "file_extension": ".py",
   "mimetype": "text/x-python",
   "name": "python",
   "nbconvert_exporter": "python",
   "pygments_lexer": "ipython3",
   "version": "3.8.10"
  }
 },
 "nbformat": 4,
 "nbformat_minor": 5
}
